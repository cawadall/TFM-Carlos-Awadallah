{
 "cells": [
  {
   "cell_type": "markdown",
   "metadata": {},
   "source": [
    "# Ejercicio - ¡Sigue la pelota, PiBot!.\n",
    "\n",
    "## Tabla resumen de los sensores y actuadores.\n",
    "\n",
    "Recuerda que la función `dameObjeto()` retorna dos valores: el **centro** y el **área**.\n",
    "\n",
    "| Función               | Descripción                                                  |\n",
    "| :-------------------- | :----------------------------------------------------------- |\n",
    "| `dameObjeto()`        | Esta función hará todo el trabajo sucio por ti, ya que es la que se encarga de hacer el filtro de color para aislar la pelota naranja y **devolverá** 2 números: centro y área.<br />- **centro**: son las coordenadas (`pixelX`, `pixelY`) del centro de la pelota en la imagen.<br />- **area**: es la superficie (numero de *pixeles*) que ocupa la pelota dentro de la imagen. |\n",
    "| `girarIzquierda(vel)` | Esta función hará que el robot sobre sí mismo hacia la izquierda a la velocidad dada como parámetro ($rad/s$). |\n",
    "| `girarDerecha(vel)`   | Esta función hará que el robot sobre sí mismo hacia la derecha a la velocidad dada como parámetro ($rad/s$). |\n",
    "| `avanzar(vel)`        | Esta función hará avanzar al robot a una velocidad dada como parámetro ($m/s$) |\n",
    "| `retroceder(vel)`     | Esta función hará retroceder al robot a una velocidad dada como parámetro ($m/s$). |\n",
    "\n",
    "\n"
   ]
  },
  {
   "cell_type": "code",
   "execution_count": null,
   "metadata": {},
   "outputs": [],
   "source": [
    "# -*- coding: utf-8 -*-\n",
    "import sys, time\n",
    "from pibot.pibot import PiBot "
   ]
  },
  {
   "cell_type": "code",
   "execution_count": null,
   "metadata": {},
   "outputs": [],
   "source": [
    "# Creamos el objeto robot\n",
    "robot = PiBot()\n",
    "\n",
    "while True:\n",
    "    \n",
    "    #Escribe aquí tu código\n",
    "    "
   ]
  }
 ],
 "metadata": {
  "kernelspec": {
   "display_name": "Python 3",
   "language": "python",
   "name": "python3"
  },
  "language_info": {
   "codemirror_mode": {
    "name": "ipython",
    "version": 3
   },
   "file_extension": ".py",
   "mimetype": "text/x-python",
   "name": "python",
   "nbconvert_exporter": "python",
   "pygments_lexer": "ipython3",
   "version": "3.6.8"
  }
 },
 "nbformat": 4,
 "nbformat_minor": 2
}
