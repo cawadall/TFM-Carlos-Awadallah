{
 "cells": [
  {
   "cell_type": "markdown",
   "metadata": {},
   "source": [
    "# Follow_Line Practice"
   ]
  },
  {
   "cell_type": "markdown",
   "metadata": {},
   "source": [
    "### API Summary Table\n",
    "| Description                                   | Method                                                       |\n",
    "| --------------------------------------------- | ------------------------------------------------------------ |\n",
    "| Get the images from the camera                | - `input_image = self.getImage()`                            |\n",
    "| Move the robot                                | - `self.motors.sendW(5)` <br />-  `self.motors.sendV(10)`          |\n",
    "| Change the image inRGB to HSV                 | - `image_HSV = cv2.cvtColor()`                               |\n",
    "| Filter the red values                         | - `value_min_HSV = np.array([0, 235, 60])`<br />- `value_max_HSV = np.array([180, 255, 255])` |\n",
    "| Filter the images                             | - `image_HSV_filtered = cv2.inRange()`                       |\n",
    "| Create a mask with the red values             | - `image_HSV_filtered_Mask = np.dstack(())`                  |\n",
    "| Get the numbers of the image rows and columns | - `size = input_image.shape`                                 |\n",
    "| Get the pixels that change of tone            | - `position_pixel_left = []`<br />- `position_pixel_right = []` |\n",
    "| Calculate the desviation of the car           | -   `desviation = position_middle - (columns/2)`             |\n",
    "| Save the camera image                         | - `self.set_color_image(input_image)`                        |\n",
    "| Save the filtered image                       | - `self.set_threshold_image(image_HSV_filtered_Mask)`        |\n",
    "| Show an image                                 | - `printImage(img)`                                          |      "
   ]
  },
  {
   "cell_type": "markdown",
   "metadata": {},
   "source": [
    "### Exercise initialization\n",
    "---\n",
    "First of all, we need to run the Gazebo simulator. The environment and the robot models are automatically launched, as you can see in the right side of the screen. If you are not seeing something similar to the image shown below, ensure to zoom out a little bit to seek for them:\n",
    "\n",
    "<img src=\"world.png\">"
   ]
  },
  {
   "cell_type": "markdown",
   "metadata": {},
   "source": [
    "Second, we need to import the necessary files. Once done, we need to call `Follow_Line` class once. Run this code and wait a few seconds until follow line initialization finishes with an OK message:"
   ]
  },
  {
   "cell_type": "code",
   "execution_count": null,
   "metadata": {},
   "outputs": [],
   "source": [
    "#!/usr/bin/python\n",
    "#-*- coding: utf-8 -*-\n",
    "\n",
    "from local_follow_line import FollowLine, printImage\n",
    "%matplotlib inline\n",
    "\n",
    "fl = FollowLine()\n",
    "fl.play()"
   ]
  },
  {
   "cell_type": "markdown",
   "metadata": {},
   "source": [
    "Now we can start coding to give intelligence to the Formula1 robot. We can do it modifying the `execute()` method from Follow Line component. This method will be called iteratively. Let's try it with a dummy instruction: each iteration, we'll print a message."
   ]
  },
  {
   "cell_type": "code",
   "execution_count": null,
   "metadata": {},
   "outputs": [],
   "source": [
    "# Implement execute method\n",
    "def execute(self):\n",
    "    print \"Running execute iteration\"\n",
    "      \n",
    "fl.setExecute(execute)"
   ]
  },
  {
   "cell_type": "markdown",
   "metadata": {},
   "source": [
    "Stop printing the updating (message) of the method with an empty instruction:"
   ]
  },
  {
   "cell_type": "code",
   "execution_count": null,
   "metadata": {},
   "outputs": [],
   "source": [
    "def execute(self):\n",
    "    pass\n",
    "    # your code goes here\n",
    "fl.setExecute(execute)"
   ]
  },
  {
   "cell_type": "markdown",
   "metadata": {},
   "source": [
    "Now you have seen how the `execute` method materializes the changes in the `FollowLine` component, just include there your code. Cheer Up!"
   ]
  },
  {
   "cell_type": "markdown",
   "metadata": {},
   "source": [
    "### Just a few Examples and Tips\n",
    "\n",
    "To obtain an image of the camera, the data is first saved and then displayed. You can use these instructions to display the contents of the camera."
   ]
  },
  {
   "cell_type": "code",
   "execution_count": null,
   "metadata": {},
   "outputs": [],
   "source": [
    "def execute(self):\n",
    "    img = self.getImage()\n",
    "    self.set_color_image(img)\n",
    "    printImage(img)\n",
    "    \n",
    "fl.setExecute(execute)"
   ]
  },
  {
   "cell_type": "markdown",
   "metadata": {},
   "source": [
    "You can use the following instructions to show the filtered images:"
   ]
  },
  {
   "cell_type": "code",
   "execution_count": null,
   "metadata": {},
   "outputs": [],
   "source": [
    "def execute(self):\n",
    "    img = self.getImage()\n",
    "    filtered_img = None\n",
    "    # image processing...\n",
    "    # filtered_img = foo\n",
    "    self.set_threshold_image(filtered_img)\n",
    "    printImage(filtered_img)\n",
    "    \n",
    "fl.setExecute(execute)"
   ]
  },
  {
   "cell_type": "code",
   "execution_count": null,
   "metadata": {},
   "outputs": [],
   "source": [
    "def execute(self):\n",
    "    segmentedImage = fl.get_threshold_image()\n",
    "    printImage(segmentedImage)\n",
    "    \n",
    "fl.setExecute(execute)"
   ]
  }
 ],
 "metadata": {
  "kernelspec": {
   "display_name": "Python 2",
   "language": "python",
   "name": "python2"
  },
  "language_info": {
   "codemirror_mode": {
    "name": "ipython",
    "version": 2
   },
   "file_extension": ".py",
   "mimetype": "text/x-python",
   "name": "python",
   "nbconvert_exporter": "python",
   "pygments_lexer": "ipython2",
   "version": "2.7.12"
  }
 },
 "nbformat": 4,
 "nbformat_minor": 2
}
