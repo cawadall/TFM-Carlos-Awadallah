{
 "cells": [
  {
   "cell_type": "markdown",
   "metadata": {},
   "source": [
    "# Cuadrado con Tello\n",
    "\n",
    "## Tabla resumen de los actuadores.\n",
    "\n",
    "### Control en Posición\n",
    "\n",
    "| Función               | Descripción                                                  |\n",
    "| :-------------------- | :----------------------------------------------------------- |\n",
    "| `girar_izquierda_hasta(grados)`| Esta función hará que el drone gire sobre sí mismo hacia la izquierda los grados que le indiques. |\n",
    "| `girar_derecha_hasta(grados)`| Esta función hará que el robot gire sobre sí mismo hacia la izquierda los grados que le indiques. |\n",
    "| `retrocecer_hasta(distancia)`| Utiliza esta función para que el drone retroceda la distancia indicada. |\n",
    "| `bajar_hasta(distancia)`| Con esta función conseguirás que la altura de vuelo del robot se reduzca la distancia indicada. |\n",
    "| `avanzar_hasta(distancia)`| Emplea esta función para que el drone avance la distancia que quieras. |\n",
    "| `izquierda_hasta(distancia)`| Utiliza esta función para que el drone se mueva lateralmente hacia la izquierda la distancia que le indiques. |\n",
    "| `derecha_hasta(distancia)`| Esta función hace que el robot se mueva lateralmente hacia la derecha la distancia que le indiques. |\n",
    "| `subir_hasta(distancia)`| Utiliza esta función para que el drone aumente su altura de vuelo la distancia indicada. |\n",
    "\n",
    "### Control en Velocidad\n",
    "\n",
    "| Función               | Descripción                                                  |\n",
    "| :-------------------- | :----------------------------------------------------------- |\n",
    "| `girarDerecha(vel)`   | Esta función hará que el robot sobre sí mismo hacia la derecha a la velocidad dada como parámetro ($rad/s$). |\n",
    "| `avanzar(vel)`        | Esta función hará avanzar al robot a una velocidad dada como parámetro ($m/s$) |\n",
    "| `retroceder(vel)`     | Esta función hará retroceder al robot a la velocidad que indiques como parámetro ($m/s$). |\n",
    "| `lateral_izquierda(vel)`| Con esta función el robot se moverá lateralmente a la izquierda a una velocidad dada como parámetro ($m/s$) |\n",
    "| `lateral_derecha(vel)`| Esta función hará que el robot se mueva lateralmente hacia la derecha a una velocidad dada como parámetro ($m/s$) |\n",
    "| `subir(vel)`        | Esta función hará que el drone suba a una velocidad dada como parámetro ($m/s$) |\n",
    "| `bajar(vel)`        | Emplea esta función para que el robot baje a una velocidad dada como parámetro ($m/s$) |\n",
    "| `girar_izquierda(vel)`| Esta función hará que el robot sobre sí mismo hacia la izquierda a la velocidad dada como parámetro ($rad/s$). |\n",
    "| `girar_derecha(vel)`  | Esta función hará que el robot gire sobre sí mismo hacia la derecha a la velocidad dada como parámetro ($rad/s$). |\n",
    "| `parar(vel)`| Utiliza esta función para detener el drone. |\n",
    "| `movimiento_libre(vx, vy, vz, rot)` | Esta función hará avanzar al robot libremente, permitiéndote especificar en ($m/s$) las velocidades que quieres para cada grado de libertad del robot  [vx:   LateralDerecha(+)/LateralIzquierda(-), vy: Adelante(+)/Atrás(-),  vz :Arriba(+)/Abajo(-), rot: GiroDerecha(+)/GiroIzquierda(-)]. | \n",
    "\n",
    "\n",
    "## Tabla resumen de los sensores.\n",
    "Recuerda que la función `dame_objeto()` retorna dos valores: el **centro** y el **área**.\n",
    "\n",
    "| Función               | Descripción                                                  |\n",
    "| :-------------------- | :----------------------------------------------------------- |\n",
    "| `centro, area = dame_objeto()`   | Esta función devolverá la posición del centro y el área del objeto de color NARANJA detectado en las imágenes de la cámara del drone. |\n",
    "| `img = dame_imagen()`  | Esta función te devolderá la imagen obtenida por la cámara del robot. |\n",
    "\n",
    "\n"
   ]
  },
  {
   "cell_type": "code",
   "execution_count": null,
   "metadata": {},
   "outputs": [],
   "source": [
    "# Robot Code\n",
    "\n",
    "from tello.tello_wrapper import Drone\n",
    "import time\n",
    "\n",
    "tel = Drone('', 9005)\n",
    "\n",
    "# introduce tu codigo aqui\n"
   ]
  }
 ],
 "metadata": {
  "kernelspec": {
   "display_name": "Python 3",
   "language": "python",
   "name": "python3"
  },
  "language_info": {
   "codemirror_mode": {
    "name": "ipython",
    "version": 3
   },
   "file_extension": ".py",
   "mimetype": "text/x-python",
   "name": "python",
   "nbconvert_exporter": "python",
   "pygments_lexer": "ipython3",
   "version": "3.6.8"
  }
 },
 "nbformat": 4,
 "nbformat_minor": 2
}
