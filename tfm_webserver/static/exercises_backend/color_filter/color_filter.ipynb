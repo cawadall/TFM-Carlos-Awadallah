{
 "cells": [
  {
   "cell_type": "markdown",
   "metadata": {},
   "source": [
    "# Color Filter Practice - Code \n"
   ]
  },
  {
   "cell_type": "markdown",
   "metadata": {},
   "source": [
    "### API Summary Table\n",
    "\n",
    "| Description                                   | Method                                                       |\n",
    "| --------------------------------------------- | ------------------------------------------------------------ |\n",
    "| Get the images from your camera               | - `input_image = self.camera.getImage()`                     |\n",
    "| Save an RGB image                             | - `self.set_color_image(image_RGB)`                          |\n",
    "| Save a BN or filtered image                   | - `self.set_filtered_image(image)`                           |\n",
    "| Change the image in RGB to HSV                | - `image_HSV = cv2.cvtColor()`                               |\n",
    "| Filter a color (ex: red)                      | - `value_min_HSV = np.array([0, 235, 60])`<br />- `value_max_HSV = np.array([180, 255, 255])` |\n",
    "| Filter the images                             | - `image_HSV_filtered = cv2.inRange()`                       |\n",
    "| Create a mask with the red values             | - `image_HSV_filtered_Mask = np.dstack(())`                  |\n",
    "| Retrieve an image                             | - `imageRGB = cf.get_color_image()`<br />- `filtered = cf.get_filtered_image()`|\n",
    "| Show an image in the Notebook                 | - `printImage(cameraImage)`                                  |"
   ]
  },
  {
   "cell_type": "markdown",
   "metadata": {},
   "source": [
    "## Program the visual perception logic through your local camera"
   ]
  },
  {
   "cell_type": "markdown",
   "metadata": {},
   "source": [
    "To start coding, we need to call ``ColorFilter`` class once. First of all, import the necessary libraries and instance a ColorFilter() object running the code cell below. Observe that the `play()` method is used to start the execution of the code. This method will configure the access parameters to the local hardware and initiate a WebSockets connection to the image server. Wait until the ``Color filter is running`` message, and make sure the WebSockets connection is opened by seeking for the corresponding ``Websocket Opened`` message. You will also see two buttons:\n",
    "\n",
    "- <span style=\"color:green;\"> Play Code </span> button. Use it to **play** or **pause** the execution.\n",
    "- <span style=\"color:gray;\"> Enable Visualization </span> button. Use it to enable de visualization of image saved via `self.set_filtered_image(image)`\n",
    "    \n",
    "**NOTE**: Ensure to run this CONFIGURATION CELL at the beginning of the exercise. You may see a warning message from the Image Server if it tries to connect several times and don't get response from the Color Filter component."
   ]
  },
  {
   "cell_type": "code",
   "execution_count": null,
   "metadata": {},
   "outputs": [],
   "source": [
    "#! /usr/bin/env python\n",
    "import ipywidgets as w\n",
    "from color_filter import ColorFilter\n",
    "from color_filter import printImage\n",
    "\n",
    "from IPython.display import display\n",
    "from IPython.display import clear_output\n",
    "\n",
    "import numpy as np\n",
    "import cv2\n",
    "%matplotlib inline\n",
    "\n",
    "# Init color filter\n",
    "cf = ColorFilter()\n",
    "cf.configureGUI()"
   ]
  },
  {
   "cell_type": "markdown",
   "metadata": {},
   "source": [
    "Once our video source is serving images, we can start coding to segment any object. With that putpose, we recommend you to use objects with plain colors, in such a way that the filter values are easier to adjust. We need to modify the ``execute()`` method from Color Filter component with the logic that implements the filter. This method will be called iteratively about 10 times per second. To understand how it works, we are going to print a message in each iteration:"
   ]
  },
  {
   "cell_type": "code",
   "execution_count": null,
   "metadata": {},
   "outputs": [],
   "source": [
    "# Implement execute method\n",
    "def execute(self):\n",
    "    print \"Running execute iteration\"\n",
    "      \n",
    "cf.setExecute(execute)"
   ]
  },
  {
   "cell_type": "markdown",
   "metadata": {},
   "source": [
    "Stop printing this \"updating message\" of the method with an empty code:"
   ]
  },
  {
   "cell_type": "code",
   "execution_count": null,
   "metadata": {},
   "outputs": [],
   "source": [
    "def execute(self):\n",
    "    #ToDo\n",
    "    pass\n",
    "\n",
    "cf.setExecute(execute)"
   ]
  },
  {
   "cell_type": "markdown",
   "metadata": {},
   "source": [
    "**REMEMBER:** You can use the ``pause()`` method of ColorFilter class to do an \"*Academic Pause*\", so that you are able to pause your algorithm, make some changes in the ``execute()`` method and setting those changes as shown above, and then resume your algorithm execution by running the ``play()`` method:\n",
    "\n",
    "1.- Pause\n",
    "```\n",
    "cf.pause()\n",
    "```\n",
    "\n",
    "2.- Change execute() method\n",
    "```\n",
    "def execute(self):\n",
    "    #make some changes\n",
    "      \n",
    "cf.setExecute(execute)\n",
    "```\n",
    "3.- Resume\n",
    "```\n",
    "cf.play()\n",
    "```\n",
    "\n",
    "**Or just execute the buttons above**."
   ]
  },
  {
   "cell_type": "markdown",
   "metadata": {},
   "source": [
    "## Algorithm skeleton\n",
    "\n",
    "We provide an skeleton where you can code your color filtering following the steps shown in the theory of this practice:"
   ]
  },
  {
   "cell_type": "code",
   "execution_count": null,
   "metadata": {},
   "outputs": [],
   "source": [
    "def execute(self):\n",
    "      \n",
    "    # Get image\n",
    "    input_image = self.camera.getImage()\n",
    "    if input_image is None:\n",
    "        print \"Can't get images from camera, is your local camera working?\"\n",
    "        return\n",
    "    \n",
    "    if input_image.any(): \n",
    "        output_img = np.copy(input_image)\n",
    "        \n",
    "        # Smooth image\n",
    "        # Add your code here\n",
    "        \n",
    "        # RGB to HSV conversion\n",
    "        # Add your code here\n",
    "        \n",
    "        # Color filter\n",
    "        # Add your code here\n",
    "        \n",
    "        # Rectangle approximation\n",
    "        # Add your code here\n",
    "        \n",
    "        # Box detection\n",
    "        # Add your code here\n",
    "\n",
    "        # Save images\n",
    "        self.set_color_image(output_img)\n",
    "        #self.set_filtered_image(thresold_img)\n",
    "\n",
    "cf.setExecute(execute)"
   ]
  }
 ],
 "metadata": {
  "celltoolbar": "Edit Metadata",
  "kernelspec": {
   "display_name": "Python 2",
   "language": "python",
   "name": "python2"
  },
  "language_info": {
   "codemirror_mode": {
    "name": "ipython",
    "version": 2
   },
   "file_extension": ".py",
   "mimetype": "text/x-python",
   "name": "python",
   "nbconvert_exporter": "python",
   "pygments_lexer": "ipython2",
   "version": "2.7.12"
  }
 },
 "nbformat": 4,
 "nbformat_minor": 1
}
