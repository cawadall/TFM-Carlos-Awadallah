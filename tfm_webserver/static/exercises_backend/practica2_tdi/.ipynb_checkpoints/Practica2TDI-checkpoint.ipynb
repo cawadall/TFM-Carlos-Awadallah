{
 "cells": [
  {
   "cell_type": "markdown",
   "metadata": {},
   "source": [
    "# <center>Práctica 2</center>\n",
    "## <center>Filtrado de imágenes en el dominio espacial </center>"
   ]
  },
  {
   "cell_type": "code",
   "execution_count": null,
   "metadata": {},
   "outputs": [],
   "source": [
    "#importamos librerías necesarias\n",
    "import numpy as np\n",
    "import cv2\n",
    "from matplotlib import pyplot as plt\n",
    "import imfunctions as imf\n",
    "%matplotlib notebook"
   ]
  },
  {
   "cell_type": "markdown",
   "metadata": {},
   "source": [
    "**I. Imágenes contaminadas con ruido**\n",
    "\n",
    "Considere las fuentes de ruido 'gaussian' y 'speckle' (también denominados ruido gaussiano y ruido granular, respectivamente) y contamine con ellas una imagen sintética de 8 bits, intensidad uniforme y luminancia 128. Considere que la imagen es cuadrada y de tamaño 256x256 píxeles. Indique y justifique la secuencia de instrucciones utilizada, tanto para generar la imagen como para\n",
    "añadir ruido. Tenga en cuenta que la matriz que representa la imagen debe ser de tipo uint8.\n",
    "\n",
    "Considere que las fuentes de ruido tienen media nula y su potencia media es 0.02 en los dos casos. "
   ]
  },
  {
   "cell_type": "code",
   "execution_count": null,
   "metadata": {
    "scrolled": false
   },
   "outputs": [],
   "source": [
    "%matplotlib notebook\n",
    "blank = np.ones((128, 128), dtype=np.uint8)*128\n",
    "print(blank)\n",
    "plt.figure('blank')\n",
    "plt.imshow(blank, cmap = 'gray', vmin = 0, vmax = 255)\n",
    "plt.xticks([]), plt.yticks([])\n",
    "plt.show()\n",
    "\n",
    "#generar ruido blanco\n",
    "\n",
    "blanknoise = imf.imnoise(blank,\"gauss\", [0,0.01])\n",
    "plt.figure('white noise')\n",
    "plt.imshow(blanknoise, cmap = 'gray', vmin = 0, vmax = 255)\n",
    "plt.xticks([]), plt.yticks([])\n",
    "plt.show()\n",
    "\n",
    "plt.figure()\n",
    "plt.hist(blanknoise.ravel(),256,[0,255])\n",
    "plt.show()\n",
    "\n",
    "cv2.imwrite('whitenoise.png',blanknoise)"
   ]
  },
  {
   "cell_type": "code",
   "execution_count": null,
   "metadata": {
    "scrolled": false
   },
   "outputs": [],
   "source": [
    "coins = cv2.imread('coins.png', 0)\n",
    "print(coins)\n",
    "plt.figure('coins')\n",
    "plt.imshow(coins, cmap = 'gray', vmin = 0, vmax = 255)\n",
    "plt.xticks([]), plt.yticks([])\n",
    "plt.show()\n",
    "\n",
    "coinsgaussian = imf.imnoise(coins,\"gauss\", [0,0.01])\n",
    "plt.figure('coins gaussian noise')\n",
    "plt.imshow(coinsgaussian, cmap = 'gray', vmin = 0, vmax = 255)\n",
    "plt.xticks([]), plt.yticks([])\n",
    "plt.show()\n",
    "\n",
    "plt.figure()\n",
    "plt.hist(coinsgaussian.ravel(),256,[0,255])\n",
    "plt.show()\n",
    "\n",
    "cv2.imwrite('whitenoisecoins.png',coinsgaussian)"
   ]
  },
  {
   "cell_type": "markdown",
   "metadata": {},
   "source": [
    "**Salt and pepper noise**"
   ]
  },
  {
   "cell_type": "code",
   "execution_count": null,
   "metadata": {},
   "outputs": [],
   "source": [
    "plt.figure('blank2')\n",
    "plt.imshow(blank, cmap = 'gray', vmin = 0, vmax = 255)\n",
    "plt.xticks([]), plt.yticks([])\n",
    "plt.show()\n",
    "\n",
    "blanksp = imf.imnoise(blank,\"sandp\", 0.02)\n",
    "plt.figure('salt and pepper')\n",
    "plt.imshow(blanksp, cmap = 'gray')\n",
    "plt.xticks([]), plt.yticks([])\n",
    "plt.show()"
   ]
  },
  {
   "cell_type": "code",
   "execution_count": null,
   "metadata": {
    "scrolled": false
   },
   "outputs": [],
   "source": [
    "plt.figure('coins2')\n",
    "plt.imshow(coins, cmap = 'gray')\n",
    "plt.xticks([]), plt.yticks([])\n",
    "plt.show()\n",
    "\n",
    "coinssp = imf.imnoise(coins,\"sandp\", 0.02)\n",
    "plt.figure('salt and pepper coins')\n",
    "plt.imshow(coinssp, cmap = 'gray')\n",
    "plt.xticks([]), plt.yticks([])\n",
    "plt.show()"
   ]
  },
  {
   "cell_type": "markdown",
   "metadata": {},
   "source": [
    "**Speckle noise**"
   ]
  },
  {
   "cell_type": "code",
   "execution_count": null,
   "metadata": {},
   "outputs": [],
   "source": [
    "plt.figure('blank3')\n",
    "plt.imshow(blank, cmap = 'gray', vmin = 0, vmax = 255)\n",
    "plt.xticks([]), plt.yticks([])\n",
    "plt.show()\n",
    "\n",
    "blankspeck = imf.imnoise(blank,\"speckle\", 0.01)\n",
    "plt.figure('speckle')\n",
    "plt.imshow(blankspeck, cmap = 'gray', vmin = 0, vmax = 255)\n",
    "plt.xticks([]), plt.yticks([])\n",
    "plt.show()\n",
    "\n",
    "plt.figure()\n",
    "plt.hist(blankspeck.ravel(),256,[0,255])\n",
    "plt.show()"
   ]
  },
  {
   "cell_type": "markdown",
   "metadata": {},
   "source": [
    "**Softening linear filters**\n",
    "\n",
    "https://docs.opencv.org/2.4/modules/imgproc/doc/filtering.html?highlight=filter2d#filter2d\n",
    "\n",
    "(5,5) kernel and zero-padding\n",
    "\n",
    "About filters and examples:https://docs.opencv.org/3.1.0/d4/d13/tutorial_py_filtering.html"
   ]
  },
  {
   "cell_type": "code",
   "execution_count": null,
   "metadata": {},
   "outputs": [],
   "source": [
    "kernel = np.ones((5,5),np.float32)/25\n",
    "coinsfilter = cv2.filter2D(coinsgaussian, -1, kernel, borderType= cv2.BORDER_CONSTANT)\n",
    "\n",
    "plt.figure()\n",
    "plt.subplot(121),plt.imshow(coinsgaussian, cmap = 'gray'),plt.title('Original')\n",
    "plt.xticks([]), plt.yticks([])\n",
    "plt.gca().spines['right'].set_color('none')\n",
    "plt.gca().spines['top'].set_color('none')\n",
    "plt.gca().spines['bottom'].set_color('none')\n",
    "plt.gca().spines['left'].set_color('none')\n",
    "plt.subplot(122),plt.imshow(coinsfilter, cmap = 'gray'),plt.title('Averaging')\n",
    "plt.xticks([]), plt.yticks([])\n",
    "plt.gca().spines['right'].set_color('none')\n",
    "plt.gca().spines['top'].set_color('none')\n",
    "plt.gca().spines['bottom'].set_color('none')\n",
    "plt.gca().spines['left'].set_color('none')\n",
    "plt.show()"
   ]
  },
  {
   "cell_type": "markdown",
   "metadata": {},
   "source": [
    "Mirror padding\n",
    "\n",
    "Padding info\n",
    "https://docs.opencv.org/3.1.0/d2/de8/group__core__array.html#gga209f2f4869e304c82d07739337eae7c5afe14c13a4ea8b8e3b3ef399013dbae01"
   ]
  },
  {
   "cell_type": "code",
   "execution_count": null,
   "metadata": {},
   "outputs": [],
   "source": [
    "coinsfiltermir = cv2.filter2D(coinsgaussian, -1, kernel, borderType= cv2.BORDER_REFLECT)\n",
    "\n",
    "plt.figure()\n",
    "plt.subplot(221),plt.imshow(coinsgaussian, cmap = 'gray'),plt.title('Original')\n",
    "plt.xticks([]), plt.yticks([])\n",
    "plt.gca().spines['right'].set_color('none')\n",
    "plt.gca().spines['top'].set_color('none')\n",
    "plt.gca().spines['bottom'].set_color('none')\n",
    "plt.gca().spines['left'].set_color('none')\n",
    "plt.subplot(222),plt.imshow(coinsfilter, cmap = 'gray'),plt.title('Zero padding')\n",
    "plt.xticks([]), plt.yticks([])\n",
    "plt.gca().spines['right'].set_color('none')\n",
    "plt.gca().spines['top'].set_color('none')\n",
    "plt.gca().spines['bottom'].set_color('none')\n",
    "plt.gca().spines['left'].set_color('none')\n",
    "plt.subplot(223),plt.imshow(coinsfiltermir, cmap = 'gray'),plt.title('Mirror padding')\n",
    "plt.xticks([]), plt.yticks([])\n",
    "plt.gca().spines['right'].set_color('none')\n",
    "plt.gca().spines['top'].set_color('none')\n",
    "plt.gca().spines['bottom'].set_color('none')\n",
    "plt.gca().spines['left'].set_color('none')\n",
    "plt.show()\n"
   ]
  },
  {
   "cell_type": "code",
   "execution_count": null,
   "metadata": {},
   "outputs": [],
   "source": [
    "print(coins.shape)"
   ]
  },
  {
   "cell_type": "code",
   "execution_count": null,
   "metadata": {},
   "outputs": [],
   "source": [
    "print('zero: ' + str(coinsfilter[245, 150]))\n",
    "print('mirror: ' + str(coinsfiltermir[245, 150]))"
   ]
  },
  {
   "cell_type": "code",
   "execution_count": null,
   "metadata": {},
   "outputs": [],
   "source": [
    "plt.figure('histograms')\n",
    "plt.subplot(221),plt.hist(coinsgaussian.ravel(),256,[0,256]),plt.title('Original') \n",
    "plt.xlabel('Intensity')\n",
    "plt.ylabel('Number of pixels')\n",
    "plt.subplot(222),plt.hist(coinsfilter.ravel(),256,[0,256]),plt.title('zero') \n",
    "plt.xlabel('Intensity')\n",
    "plt.ylabel('Number of pixels')\n",
    "plt.subplot(223),plt.hist(coinsfiltermir.ravel(),256,[0,256]),plt.title('mirror') \n",
    "plt.xlabel('Intensity')\n",
    "plt.ylabel('Number of pixels')\n",
    "plt.show()"
   ]
  },
  {
   "cell_type": "markdown",
   "metadata": {},
   "source": [
    "kernel (35,35)"
   ]
  },
  {
   "cell_type": "code",
   "execution_count": null,
   "metadata": {},
   "outputs": [],
   "source": [
    "kernel35 = np.ones((35,35),np.float32)/(35*35)\n",
    "\n",
    "coinsfilter35 = cv2.filter2D(coinsgaussian, -1, kernel35, borderType= cv2.BORDER_REFLECT)\n",
    "\n",
    "plt.figure()\n",
    "plt.subplot(221),plt.imshow(coinsgaussian, cmap = 'gray'),plt.title('Original')\n",
    "plt.xticks([]), plt.yticks([])\n",
    "plt.gca().spines['right'].set_color('none')\n",
    "plt.gca().spines['top'].set_color('none')\n",
    "plt.gca().spines['bottom'].set_color('none')\n",
    "plt.gca().spines['left'].set_color('none')\n",
    "plt.subplot(222),plt.imshow(coinsfiltermir, cmap = 'gray'),plt.title('Kernel 5x5')\n",
    "plt.xticks([]), plt.yticks([])\n",
    "plt.gca().spines['right'].set_color('none')\n",
    "plt.gca().spines['top'].set_color('none')\n",
    "plt.gca().spines['bottom'].set_color('none')\n",
    "plt.gca().spines['left'].set_color('none')\n",
    "plt.subplot(223),plt.imshow(coinsfilter35, cmap = 'gray'),plt.title('kernel 35x35')\n",
    "plt.xticks([]), plt.yticks([])\n",
    "plt.gca().spines['right'].set_color('none')\n",
    "plt.gca().spines['top'].set_color('none')\n",
    "plt.gca().spines['bottom'].set_color('none')\n",
    "plt.gca().spines['left'].set_color('none')\n",
    "plt.show()\n",
    "\n",
    "plt.figure('histograms2')\n",
    "plt.subplot(221),plt.hist(coinsgaussian.ravel(),256,[0,256]),plt.title('Original') \n",
    "plt.xlabel('Intensity')\n",
    "plt.ylabel('Number of pixels')\n",
    "plt.subplot(222),plt.hist(coinsfiltermir.ravel(),256,[0,256]),plt.title('mir') \n",
    "plt.xlabel('Intensity')\n",
    "plt.ylabel('Number of pixels')\n",
    "plt.subplot(223),plt.hist(coinsfilter35.ravel(),256,[0,256]),plt.title('35') \n",
    "plt.xlabel('Intensity')\n",
    "plt.ylabel('Number of pixels')\n",
    "plt.show()"
   ]
  },
  {
   "cell_type": "markdown",
   "metadata": {},
   "source": [
    "Salt and pepper"
   ]
  },
  {
   "cell_type": "code",
   "execution_count": null,
   "metadata": {},
   "outputs": [],
   "source": [
    "filtersyp = cv2.filter2D(coinssp, -1, kernel, borderType= cv2.BORDER_REFLECT)\n",
    "\n",
    "plt.figure()\n",
    "plt.subplot(121),plt.imshow(coinssp, cmap = 'gray'),plt.title('Original')\n",
    "plt.xticks([]), plt.yticks([])\n",
    "plt.gca().spines['right'].set_color('none')\n",
    "plt.gca().spines['top'].set_color('none')\n",
    "plt.gca().spines['bottom'].set_color('none')\n",
    "plt.gca().spines['left'].set_color('none')\n",
    "plt.subplot(122),plt.imshow(filtersyp, cmap = 'gray'),plt.title('Averaging')\n",
    "plt.xticks([]), plt.yticks([])\n",
    "plt.gca().spines['right'].set_color('none')\n",
    "plt.gca().spines['top'].set_color('none')\n",
    "plt.gca().spines['bottom'].set_color('none')\n",
    "plt.gca().spines['left'].set_color('none')\n",
    "plt.show()"
   ]
  },
  {
   "cell_type": "markdown",
   "metadata": {},
   "source": [
    "**Non-linear softening filters**\n",
    "\n",
    "Median filter\n",
    "https://docs.opencv.org/3.1.0/d4/d13/tutorial_py_filtering.html\n",
    "https://docs.opencv.org/2.4/modules/imgproc/doc/filtering.html?highlight=medianblur#medianblur"
   ]
  },
  {
   "cell_type": "code",
   "execution_count": null,
   "metadata": {},
   "outputs": [],
   "source": [
    "gaussianmedian = cv2.medianBlur(coinsgaussian, 5)\n",
    "sandpmedian = cv2.medianBlur(coinssp, 5)\n",
    "\n",
    "plt.figure()\n",
    "plt.subplot(221),plt.imshow(coinsgaussian, cmap = 'gray'),plt.title('Gaussian')\n",
    "plt.xticks([]), plt.yticks([])\n",
    "plt.gca().spines['right'].set_color('none')\n",
    "plt.gca().spines['top'].set_color('none')\n",
    "plt.gca().spines['bottom'].set_color('none')\n",
    "plt.gca().spines['left'].set_color('none')\n",
    "plt.subplot(222),plt.imshow(gaussianmedian, cmap = 'gray'),plt.title('Median over Gaussian')\n",
    "plt.xticks([]), plt.yticks([])\n",
    "plt.gca().spines['right'].set_color('none')\n",
    "plt.gca().spines['top'].set_color('none')\n",
    "plt.gca().spines['bottom'].set_color('none')\n",
    "plt.gca().spines['left'].set_color('none')\n",
    "plt.subplot(223),plt.imshow(coinssp, cmap = 'gray'),plt.title('Salt and pepper')\n",
    "plt.xticks([]), plt.yticks([])\n",
    "plt.gca().spines['right'].set_color('none')\n",
    "plt.gca().spines['top'].set_color('none')\n",
    "plt.gca().spines['bottom'].set_color('none')\n",
    "plt.gca().spines['left'].set_color('none')\n",
    "plt.subplot(224),plt.imshow(sandpmedian, cmap = 'gray'),plt.title('Median over Salt and pepper')\n",
    "plt.xticks([]), plt.yticks([])\n",
    "plt.gca().spines['right'].set_color('none')\n",
    "plt.gca().spines['top'].set_color('none')\n",
    "plt.gca().spines['bottom'].set_color('none')\n",
    "plt.gca().spines['left'].set_color('none')\n",
    "\n",
    "plt.show()"
   ]
  },
  {
   "cell_type": "markdown",
   "metadata": {},
   "source": [
    "**Filtros espaciales de realce de contornos**\n",
    "Prewitt"
   ]
  },
  {
   "cell_type": "code",
   "execution_count": null,
   "metadata": {},
   "outputs": [],
   "source": [
    "prewitth = np.array([[1,1,1],[0,0,0],[-1,-1,-1]])\n",
    "prewittv = np.array([[-1,0,1],[-1,0,1],[-1,0,1]])\n",
    "\n",
    "coinsph = cv2.filter2D(coins, -1, prewitth, borderType= cv2.BORDER_REFLECT)\n",
    "coinspv = cv2.filter2D(coins, -1, prewittv, borderType= cv2.BORDER_REFLECT)\n",
    "\n",
    "plt.figure()\n",
    "plt.subplot(221),plt.imshow(coins, cmap = 'gray'),plt.title('Original')\n",
    "plt.xticks([]), plt.yticks([])\n",
    "plt.gca().spines['right'].set_color('none')\n",
    "plt.gca().spines['top'].set_color('none')\n",
    "plt.gca().spines['bottom'].set_color('none')\n",
    "plt.gca().spines['left'].set_color('none')\n",
    "plt.subplot(223),plt.imshow(coinsph, cmap = 'gray'),plt.title('Prewitt horizontal')\n",
    "plt.xticks([]), plt.yticks([])\n",
    "plt.gca().spines['right'].set_color('none')\n",
    "plt.gca().spines['top'].set_color('none')\n",
    "plt.gca().spines['bottom'].set_color('none')\n",
    "plt.gca().spines['left'].set_color('none')\n",
    "plt.subplot(224),plt.imshow(coinspv, cmap = 'gray'),plt.title('Prewitt vertical')\n",
    "plt.xticks([]), plt.yticks([])\n",
    "plt.gca().spines['right'].set_color('none')\n",
    "plt.gca().spines['top'].set_color('none')\n",
    "plt.gca().spines['bottom'].set_color('none')\n",
    "plt.gca().spines['left'].set_color('none')\n",
    "plt.show()"
   ]
  },
  {
   "cell_type": "code",
   "execution_count": null,
   "metadata": {},
   "outputs": [],
   "source": [
    "coinsprewitt = coinsph + coinspv\n",
    "\n",
    "[thresh, coinbin] = cv2.threshold(coinsprewitt, 127, 255, cv2.THRESH_OTSU)\n",
    "\n",
    "plt.figure()\n",
    "plt.subplot(121),plt.imshow(coinsprewitt, cmap = 'gray'),plt.title('Coins with prewittt')\n",
    "plt.xticks([]), plt.yticks([])\n",
    "plt.gca().spines['right'].set_color('none')\n",
    "plt.gca().spines['top'].set_color('none')\n",
    "plt.gca().spines['bottom'].set_color('none')\n",
    "plt.gca().spines['left'].set_color('none')\n",
    "plt.subplot(122),plt.imshow(coinbin, cmap = 'gray'),plt.title('Binary')\n",
    "plt.xticks([]), plt.yticks([])\n",
    "plt.gca().spines['right'].set_color('none')\n",
    "plt.gca().spines['top'].set_color('none')\n",
    "plt.gca().spines['bottom'].set_color('none')\n",
    "plt.gca().spines['left'].set_color('none')\n",
    "plt.show()"
   ]
  },
  {
   "cell_type": "code",
   "execution_count": null,
   "metadata": {},
   "outputs": [],
   "source": [
    "Trying different threshold"
   ]
  },
  {
   "cell_type": "code",
   "execution_count": null,
   "metadata": {},
   "outputs": [],
   "source": [
    "[thresh, coinbin] = cv2.threshold(coinsprewitt, 160, 255, cv2.THRESH_BINARY)\n",
    "\n",
    "plt.figure()\n",
    "plt.subplot(121),plt.imshow(coinsprewitt, cmap = 'gray'),plt.title('Coins with prewittt')\n",
    "plt.xticks([]), plt.yticks([])\n",
    "plt.gca().spines['right'].set_color('none')\n",
    "plt.gca().spines['top'].set_color('none')\n",
    "plt.gca().spines['bottom'].set_color('none')\n",
    "plt.gca().spines['left'].set_color('none')\n",
    "plt.subplot(122),plt.imshow(coinbin, cmap = 'gray'),plt.title('Binary')\n",
    "plt.xticks([]), plt.yticks([])\n",
    "plt.gca().spines['right'].set_color('none')\n",
    "plt.gca().spines['top'].set_color('none')\n",
    "plt.gca().spines['bottom'].set_color('none')\n",
    "plt.gca().spines['left'].set_color('none')\n",
    "plt.show()"
   ]
  },
  {
   "cell_type": "markdown",
   "metadata": {},
   "source": [
    "Isotropic"
   ]
  },
  {
   "cell_type": "code",
   "execution_count": null,
   "metadata": {
    "scrolled": false
   },
   "outputs": [],
   "source": [
    "isotropic = np.array([[-1,-1,-1],[-1,8,-1],[-1,-1,-1]])\n",
    "\n",
    "coinsiso = cv2.filter2D(coins, -1, isotropic, borderType= cv2.BORDER_REFLECT)\n",
    "[thresh, coinsbiniso] = cv2.threshold(coinsiso, 160, 255, cv2.THRESH_BINARY)\n",
    "\n",
    "plt.figure()\n",
    "plt.subplot(221),plt.imshow(coins, cmap = 'gray'),plt.title('Original')\n",
    "plt.xticks([]), plt.yticks([])\n",
    "plt.gca().spines['right'].set_color('none')\n",
    "plt.gca().spines['top'].set_color('none')\n",
    "plt.gca().spines['bottom'].set_color('none')\n",
    "plt.gca().spines['left'].set_color('none')\n",
    "plt.subplot(223),plt.imshow(coinsiso, cmap = 'gray'),plt.title('Prewitt horizontal')\n",
    "plt.xticks([]), plt.yticks([])\n",
    "plt.gca().spines['right'].set_color('none')\n",
    "plt.gca().spines['top'].set_color('none')\n",
    "plt.gca().spines['bottom'].set_color('none')\n",
    "plt.gca().spines['left'].set_color('none')\n",
    "plt.subplot(224),plt.imshow(coinsbiniso, cmap = 'gray'),plt.title('Prewitt vertical')\n",
    "plt.xticks([]), plt.yticks([])\n",
    "plt.gca().spines['right'].set_color('none')\n",
    "plt.gca().spines['top'].set_color('none')\n",
    "plt.gca().spines['bottom'].set_color('none')\n",
    "plt.gca().spines['left'].set_color('none')\n",
    "plt.show()"
   ]
  },
  {
   "cell_type": "markdown",
   "metadata": {},
   "source": [
    "Add a blurring filter "
   ]
  },
  {
   "cell_type": "code",
   "execution_count": null,
   "metadata": {},
   "outputs": [],
   "source": [
    "kernel11 = np.ones((11,11),np.float32)/(11*11)\n",
    "\n",
    "coinsmean = cv2.filter2D(coins, -1, kernel11, borderType= cv2.BORDER_REFLECT)\n",
    "coinsmedian = cv2.medianBlur(coins, 11)\n",
    "\n",
    "coinsisomean = cv2.filter2D(coinsmean, -1, isotropic, borderType= cv2.BORDER_REFLECT)\n",
    "\n",
    "[thresh, coinsisomean] = cv2.threshold(coinsisomean, 120, 255, cv2.THRESH_BINARY)\n",
    "\n",
    "coinsisomed = cv2.filter2D(coinsmedian, -1, isotropic, borderType= cv2.BORDER_REFLECT)\n",
    "[thresh, coinsisomed] = cv2.threshold(coinsisomed, 120, 255, cv2.THRESH_BINARY)\n",
    "\n",
    "plt.figure()\n",
    "plt.subplot(221),plt.imshow(coinsbiniso, cmap = 'gray'),plt.title('No blur filter')\n",
    "plt.xticks([]), plt.yticks([])\n",
    "plt.gca().spines['right'].set_color('none')\n",
    "plt.gca().spines['top'].set_color('none')\n",
    "plt.gca().spines['bottom'].set_color('none')\n",
    "plt.gca().spines['left'].set_color('none')\n",
    "plt.subplot(223),plt.imshow(coinsisomean, cmap = 'gray'),plt.title('Mean filter')\n",
    "plt.xticks([]), plt.yticks([])\n",
    "plt.gca().spines['right'].set_color('none')\n",
    "plt.gca().spines['top'].set_color('none')\n",
    "plt.gca().spines['bottom'].set_color('none')\n",
    "plt.gca().spines['left'].set_color('none')\n",
    "plt.subplot(224),plt.imshow(coinsisomed, cmap = 'gray'),plt.title('Median filter')\n",
    "plt.xticks([]), plt.yticks([])\n",
    "plt.gca().spines['right'].set_color('none')\n",
    "plt.gca().spines['top'].set_color('none')\n",
    "plt.gca().spines['bottom'].set_color('none')\n",
    "plt.gca().spines['left'].set_color('none')\n",
    "plt.show()"
   ]
  },
  {
   "cell_type": "code",
   "execution_count": null,
   "metadata": {},
   "outputs": [],
   "source": [
    "coinsRGB = cv2.cvtColor(coins, cv2.COLOR_GRAY2RGB)\n",
    "Bnew = np.zeros((coins.shape), np.uint8)\n",
    "Gnew = np.zeros((coins.shape), np.uint8)\n",
    "coinstag = cv2.merge((coinsisomed,Gnew,Bnew))\n",
    "\n",
    "coinsseg = cv2.bitwise_or(coinsRGB, coinstag)\n",
    "\n",
    "plt.figure()\n",
    "plt.imshow(coinsseg)\n",
    "plt.show()"
   ]
  },
  {
   "cell_type": "code",
   "execution_count": null,
   "metadata": {},
   "outputs": [],
   "source": []
  }
 ],
 "metadata": {
  "kernelspec": {
   "display_name": "Python 2",
   "language": "python",
   "name": "python2"
  },
  "language_info": {
   "codemirror_mode": {
    "name": "ipython",
    "version": 2
   },
   "file_extension": ".py",
   "mimetype": "text/x-python",
   "name": "python",
   "nbconvert_exporter": "python",
   "pygments_lexer": "ipython2",
   "version": "2.7.12"
  }
 },
 "nbformat": 4,
 "nbformat_minor": 2
}
